{
  "nbformat": 4,
  "nbformat_minor": 0,
  "metadata": {
    "colab": {
      "name": "Automobile-RegressionAnalysis.ipynb",
      "provenance": [],
      "collapsed_sections": [],
      "mount_file_id": "1Q7_6nWsFBtYM2R0fYsDa1WBltmvMuWyN",
      "authorship_tag": "ABX9TyOqLWbxYDufQ3Yd3eO6Kv8w",
      "include_colab_link": true
    },
    "kernelspec": {
      "name": "python3",
      "display_name": "Python 3"
    }
  },
  "cells": [
    {
      "cell_type": "markdown",
      "metadata": {
        "id": "view-in-github",
        "colab_type": "text"
      },
      "source": [
        "<a href=\"https://colab.research.google.com/github/Darren-Alton-Dsouza/Regression-Analysis/blob/master/Automobile_RegressionAnalysis.ipynb\" target=\"_parent\"><img src=\"https://colab.research.google.com/assets/colab-badge.svg\" alt=\"Open In Colab\"/></a>"
      ]
    },
    {
      "cell_type": "markdown",
      "metadata": {
        "id": "B-c3ucDNjV91",
        "colab_type": "text"
      },
      "source": [
        "***DATA VISUALIZATION AND REGRESSION ANALYSIS OF AUTOMOBILE BASED DATA SET***\n"
      ]
    },
    {
      "cell_type": "code",
      "metadata": {
        "id": "IitbC12cjyE3",
        "colab_type": "code",
        "colab": {}
      },
      "source": [
        "# Initializing by introducing necessary Libraries needed for the Task\n",
       ############
        "import pandas as pd\n",
        "import matplotlib\n",
        "import matplotlib.pyplot as plt\n",
        "import scipy.stats as stats\n",
        "matplotlib.style.use('ggplot')"
      ],
      "execution_count": 1,
      "outputs": []
    },
    {
      "cell_type": "code",
      "metadata": {
        "id": "wCPcqePwkM8O",
        "colab_type": "code",
        "colab": {
          "base_uri": "https://localhost:8080/",
          "height": 994
        },
        "outputId": "949f343f-a857-4f80-860f-26c9c8489f6e"
      },
      "source": [
        "# Reading the neccesary data set \n",
        "mtcars = pd.read_csv(\"/content/drive/My Drive/Colab Notebooks/Python-Smartknower/mtcars.csv\")\n",
        "mtcars"
      ],
      "execution_count": 2,
      "outputs": [
        {
          "output_type": "execute_result",
          "data": {
            "text/html": [
              "<div>\n",
              "<style scoped>\n",
              "    .dataframe tbody tr th:only-of-type {\n",
              "        vertical-align: middle;\n",
              "    }\n",
              "\n",
              "    .dataframe tbody tr th {\n",
              "        vertical-align: top;\n",
              "    }\n",
              "\n",
              "    .dataframe thead th {\n",
              "        text-align: right;\n",
              "    }\n",
              "</style>\n",
              "<table border=\"1\" class=\"dataframe\">\n",
              "  <thead>\n",
              "    <tr style=\"text-align: right;\">\n",
              "      <th></th>\n",
              "      <th>model</th>\n",
              "      <th>mpg</th>\n",
              "      <th>cyl</th>\n",
              "      <th>disp</th>\n",
              "      <th>hp</th>\n",
              "      <th>drat</th>\n",
              "      <th>wt</th>\n",
              "      <th>qsec</th>\n",
              "      <th>vs</th>\n",
              "      <th>am</th>\n",
              "      <th>gear</th>\n",
              "      <th>carb</th>\n",
              "    </tr>\n",
              "  </thead>\n",
              "  <tbody>\n",
              "    <tr>\n",
              "      <th>0</th>\n",
              "      <td>Mazda RX4</td>\n",
              "      <td>21.0</td>\n",
              "      <td>6</td>\n",
              "      <td>160.0</td>\n",
              "      <td>110</td>\n",
              "      <td>3.90</td>\n",
              "      <td>2.620</td>\n",
              "      <td>16.46</td>\n",
              "      <td>0</td>\n",
              "      <td>1</td>\n",
              "      <td>4</td>\n",
              "      <td>4</td>\n",
              "    </tr>\n",
              "    <tr>\n",
              "      <th>1</th>\n",
              "      <td>Mazda RX4 Wag</td>\n",
              "      <td>21.0</td>\n",
              "      <td>6</td>\n",
              "      <td>160.0</td>\n",
              "      <td>110</td>\n",
              "      <td>3.90</td>\n",
              "      <td>2.875</td>\n",
              "      <td>17.02</td>\n",
              "      <td>0</td>\n",
              "      <td>1</td>\n",
              "      <td>4</td>\n",
              "      <td>4</td>\n",
              "    </tr>\n",
              "    <tr>\n",
              "      <th>2</th>\n",
              "      <td>Datsun 710</td>\n",
              "      <td>22.8</td>\n",
              "      <td>4</td>\n",
              "      <td>108.0</td>\n",
              "      <td>93</td>\n",
              "      <td>3.85</td>\n",
              "      <td>2.320</td>\n",
              "      <td>18.61</td>\n",
              "      <td>1</td>\n",
              "      <td>1</td>\n",
              "      <td>4</td>\n",
              "      <td>1</td>\n",
              "    </tr>\n",
              "    <tr>\n",
              "      <th>3</th>\n",
              "      <td>Hornet 4 Drive</td>\n",
              "      <td>21.4</td>\n",
              "      <td>6</td>\n",
              "      <td>258.0</td>\n",
              "      <td>110</td>\n",
              "      <td>3.08</td>\n",
              "      <td>3.215</td>\n",
              "      <td>19.44</td>\n",
              "      <td>1</td>\n",
              "      <td>0</td>\n",
              "      <td>3</td>\n",
              "      <td>1</td>\n",
              "    </tr>\n",
              "    <tr>\n",
              "      <th>4</th>\n",
              "      <td>Hornet Sportabout</td>\n",
              "      <td>18.7</td>\n",
              "      <td>8</td>\n",
              "      <td>360.0</td>\n",
              "      <td>175</td>\n",
              "      <td>3.15</td>\n",
              "      <td>3.440</td>\n",
              "      <td>17.02</td>\n",
              "      <td>0</td>\n",
              "      <td>0</td>\n",
              "      <td>3</td>\n",
              "      <td>2</td>\n",
              "    </tr>\n",
              "    <tr>\n",
              "      <th>5</th>\n",
              "      <td>Valiant</td>\n",
              "      <td>18.1</td>\n",
              "      <td>6</td>\n",
              "      <td>225.0</td>\n",
              "      <td>105</td>\n",
              "      <td>2.76</td>\n",
              "      <td>3.460</td>\n",
              "      <td>20.22</td>\n",
              "      <td>1</td>\n",
              "      <td>0</td>\n",
              "      <td>3</td>\n",
              "      <td>1</td>\n",
              "    </tr>\n",
              "    <tr>\n",
              "      <th>6</th>\n",
              "      <td>Duster 360</td>\n",
              "      <td>14.3</td>\n",
              "      <td>8</td>\n",
              "      <td>360.0</td>\n",
              "      <td>245</td>\n",
              "      <td>3.21</td>\n",
              "      <td>3.570</td>\n",
              "      <td>15.84</td>\n",
              "      <td>0</td>\n",
              "      <td>0</td>\n",
              "      <td>3</td>\n",
              "      <td>4</td>\n",
              "    </tr>\n",
              "    <tr>\n",
              "      <th>7</th>\n",
              "      <td>Merc 240D</td>\n",
              "      <td>24.4</td>\n",
              "      <td>4</td>\n",
              "      <td>146.7</td>\n",
              "      <td>62</td>\n",
              "      <td>3.69</td>\n",
              "      <td>3.190</td>\n",
              "      <td>20.00</td>\n",
              "      <td>1</td>\n",
              "      <td>0</td>\n",
              "      <td>4</td>\n",
              "      <td>2</td>\n",
              "    </tr>\n",
              "    <tr>\n",
              "      <th>8</th>\n",
              "      <td>Merc 230</td>\n",
              "      <td>22.8</td>\n",
              "      <td>4</td>\n",
              "      <td>140.8</td>\n",
              "      <td>95</td>\n",
              "      <td>3.92</td>\n",
              "      <td>3.150</td>\n",
              "      <td>22.90</td>\n",
              "      <td>1</td>\n",
              "      <td>0</td>\n",
              "      <td>4</td>\n",
              "      <td>2</td>\n",
              "    </tr>\n",
              "    <tr>\n",
              "      <th>9</th>\n",
              "      <td>Merc 280</td>\n",
              "      <td>19.2</td>\n",
              "      <td>6</td>\n",
              "      <td>167.6</td>\n",
              "      <td>123</td>\n",
              "      <td>3.92</td>\n",
              "      <td>3.440</td>\n",
              "      <td>18.30</td>\n",
              "      <td>1</td>\n",
              "      <td>0</td>\n",
              "      <td>4</td>\n",
              "      <td>4</td>\n",
              "    </tr>\n",
              "    <tr>\n",
              "      <th>10</th>\n",
              "      <td>Merc 280C</td>\n",
              "      <td>17.8</td>\n",
              "      <td>6</td>\n",
              "      <td>167.6</td>\n",
              "      <td>123</td>\n",
              "      <td>3.92</td>\n",
              "      <td>3.440</td>\n",
              "      <td>18.90</td>\n",
              "      <td>1</td>\n",
              "      <td>0</td>\n",
              "      <td>4</td>\n",
              "      <td>4</td>\n",
              "    </tr>\n",
              "    <tr>\n",
              "      <th>11</th>\n",
              "      <td>Merc 450SE</td>\n",
              "      <td>16.4</td>\n",
              "      <td>8</td>\n",
              "      <td>275.8</td>\n",
              "      <td>180</td>\n",
              "      <td>3.07</td>\n",
              "      <td>4.070</td>\n",
              "      <td>17.40</td>\n",
              "      <td>0</td>\n",
              "      <td>0</td>\n",
              "      <td>3</td>\n",
              "      <td>3</td>\n",
              "    </tr>\n",
              "    <tr>\n",
              "      <th>12</th>\n",
              "      <td>Merc 450SL</td>\n",
              "      <td>17.3</td>\n",
              "      <td>8</td>\n",
              "      <td>275.8</td>\n",
              "      <td>180</td>\n",
              "      <td>3.07</td>\n",
              "      <td>3.730</td>\n",
              "      <td>17.60</td>\n",
              "      <td>0</td>\n",
              "      <td>0</td>\n",
              "      <td>3</td>\n",
              "      <td>3</td>\n",
              "    </tr>\n",
              "    <tr>\n",
              "      <th>13</th>\n",
              "      <td>Merc 450SLC</td>\n",
              "      <td>15.2</td>\n",
              "      <td>8</td>\n",
              "      <td>275.8</td>\n",
              "      <td>180</td>\n",
              "      <td>3.07</td>\n",
              "      <td>3.780</td>\n",
              "      <td>18.00</td>\n",
              "      <td>0</td>\n",
              "      <td>0</td>\n",
              "      <td>3</td>\n",
              "      <td>3</td>\n",
              "    </tr>\n",
              "    <tr>\n",
              "      <th>14</th>\n",
              "      <td>Cadillac Fleetwood</td>\n",
              "      <td>10.4</td>\n",
              "      <td>8</td>\n",
              "      <td>472.0</td>\n",
              "      <td>205</td>\n",
              "      <td>2.93</td>\n",
              "      <td>5.250</td>\n",
              "      <td>17.98</td>\n",
              "      <td>0</td>\n",
              "      <td>0</td>\n",
              "      <td>3</td>\n",
              "      <td>4</td>\n",
              "    </tr>\n",
              "    <tr>\n",
              "      <th>15</th>\n",
              "      <td>Lincoln Continental</td>\n",
              "      <td>10.4</td>\n",
              "      <td>8</td>\n",
              "      <td>460.0</td>\n",
              "      <td>215</td>\n",
              "      <td>3.00</td>\n",
              "      <td>5.424</td>\n",
              "      <td>17.82</td>\n",
              "      <td>0</td>\n",
              "      <td>0</td>\n",
              "      <td>3</td>\n",
              "      <td>4</td>\n",
              "    </tr>\n",
              "    <tr>\n",
              "      <th>16</th>\n",
              "      <td>Chrysler Imperial</td>\n",
              "      <td>14.7</td>\n",
              "      <td>8</td>\n",
              "      <td>440.0</td>\n",
              "      <td>230</td>\n",
              "      <td>3.23</td>\n",
              "      <td>5.345</td>\n",
              "      <td>17.42</td>\n",
              "      <td>0</td>\n",
              "      <td>0</td>\n",
              "      <td>3</td>\n",
              "      <td>4</td>\n",
              "    </tr>\n",
              "    <tr>\n",
              "      <th>17</th>\n",
              "      <td>Fiat 128</td>\n",
              "      <td>32.4</td>\n",
              "      <td>4</td>\n",
              "      <td>78.7</td>\n",
              "      <td>66</td>\n",
              "      <td>4.08</td>\n",
              "      <td>2.200</td>\n",
              "      <td>19.47</td>\n",
              "      <td>1</td>\n",
              "      <td>1</td>\n",
              "      <td>4</td>\n",
              "      <td>1</td>\n",
              "    </tr>\n",
              "    <tr>\n",
              "      <th>18</th>\n",
              "      <td>Honda Civic</td>\n",
              "      <td>30.4</td>\n",
              "      <td>4</td>\n",
              "      <td>75.7</td>\n",
              "      <td>52</td>\n",
              "      <td>4.93</td>\n",
              "      <td>1.615</td>\n",
              "      <td>18.52</td>\n",
              "      <td>1</td>\n",
              "      <td>1</td>\n",
              "      <td>4</td>\n",
              "      <td>2</td>\n",
              "    </tr>\n",
              "    <tr>\n",
              "      <th>19</th>\n",
              "      <td>Toyota Corolla</td>\n",
              "      <td>33.9</td>\n",
              "      <td>4</td>\n",
              "      <td>71.1</td>\n",
              "      <td>65</td>\n",
              "      <td>4.22</td>\n",
              "      <td>1.835</td>\n",
              "      <td>19.90</td>\n",
              "      <td>1</td>\n",
              "      <td>1</td>\n",
              "      <td>4</td>\n",
              "      <td>1</td>\n",
              "    </tr>\n",
              "    <tr>\n",
              "      <th>20</th>\n",
              "      <td>Toyota Corona</td>\n",
              "      <td>21.5</td>\n",
              "      <td>4</td>\n",
              "      <td>120.1</td>\n",
              "      <td>97</td>\n",
              "      <td>3.70</td>\n",
              "      <td>2.465</td>\n",
              "      <td>20.01</td>\n",
              "      <td>1</td>\n",
              "      <td>0</td>\n",
              "      <td>3</td>\n",
              "      <td>1</td>\n",
              "    </tr>\n",
              "    <tr>\n",
              "      <th>21</th>\n",
              "      <td>Dodge Challenger</td>\n",
              "      <td>15.5</td>\n",
              "      <td>8</td>\n",
              "      <td>318.0</td>\n",
              "      <td>150</td>\n",
              "      <td>2.76</td>\n",
              "      <td>3.520</td>\n",
              "      <td>16.87</td>\n",
              "      <td>0</td>\n",
              "      <td>0</td>\n",
              "      <td>3</td>\n",
              "      <td>2</td>\n",
              "    </tr>\n",
              "    <tr>\n",
              "      <th>22</th>\n",
              "      <td>AMC Javelin</td>\n",
              "      <td>15.2</td>\n",
              "      <td>8</td>\n",
              "      <td>304.0</td>\n",
              "      <td>150</td>\n",
              "      <td>3.15</td>\n",
              "      <td>3.435</td>\n",
              "      <td>17.30</td>\n",
              "      <td>0</td>\n",
              "      <td>0</td>\n",
              "      <td>3</td>\n",
              "      <td>2</td>\n",
              "    </tr>\n",
              "    <tr>\n",
              "      <th>23</th>\n",
              "      <td>Camaro Z28</td>\n",
              "      <td>13.3</td>\n",
              "      <td>8</td>\n",
              "      <td>350.0</td>\n",
              "      <td>245</td>\n",
              "      <td>3.73</td>\n",
              "      <td>3.840</td>\n",
              "      <td>15.41</td>\n",
              "      <td>0</td>\n",
              "      <td>0</td>\n",
              "      <td>3</td>\n",
              "      <td>4</td>\n",
              "    </tr>\n",
              "    <tr>\n",
              "      <th>24</th>\n",
              "      <td>Pontiac Firebird</td>\n",
              "      <td>19.2</td>\n",
              "      <td>8</td>\n",
              "      <td>400.0</td>\n",
              "      <td>175</td>\n",
              "      <td>3.08</td>\n",
              "      <td>3.845</td>\n",
              "      <td>17.05</td>\n",
              "      <td>0</td>\n",
              "      <td>0</td>\n",
              "      <td>3</td>\n",
              "      <td>2</td>\n",
              "    </tr>\n",
              "    <tr>\n",
              "      <th>25</th>\n",
              "      <td>Fiat X1-9</td>\n",
              "      <td>27.3</td>\n",
              "      <td>4</td>\n",
              "      <td>79.0</td>\n",
              "      <td>66</td>\n",
              "      <td>4.08</td>\n",
              "      <td>1.935</td>\n",
              "      <td>18.90</td>\n",
              "      <td>1</td>\n",
              "      <td>1</td>\n",
              "      <td>4</td>\n",
              "      <td>1</td>\n",
              "    </tr>\n",
              "    <tr>\n",
              "      <th>26</th>\n",
              "      <td>Porsche 914-2</td>\n",
              "      <td>26.0</td>\n",
              "      <td>4</td>\n",
              "      <td>120.3</td>\n",
              "      <td>91</td>\n",
              "      <td>4.43</td>\n",
              "      <td>2.140</td>\n",
              "      <td>16.70</td>\n",
              "      <td>0</td>\n",
              "      <td>1</td>\n",
              "      <td>5</td>\n",
              "      <td>2</td>\n",
              "    </tr>\n",
              "    <tr>\n",
              "      <th>27</th>\n",
              "      <td>Lotus Europa</td>\n",
              "      <td>30.4</td>\n",
              "      <td>4</td>\n",
              "      <td>95.1</td>\n",
              "      <td>113</td>\n",
              "      <td>3.77</td>\n",
              "      <td>1.513</td>\n",
              "      <td>16.90</td>\n",
              "      <td>1</td>\n",
              "      <td>1</td>\n",
              "      <td>5</td>\n",
              "      <td>2</td>\n",
              "    </tr>\n",
              "    <tr>\n",
              "      <th>28</th>\n",
              "      <td>Ford Pantera L</td>\n",
              "      <td>15.8</td>\n",
              "      <td>8</td>\n",
              "      <td>351.0</td>\n",
              "      <td>264</td>\n",
              "      <td>4.22</td>\n",
              "      <td>3.170</td>\n",
              "      <td>14.50</td>\n",
              "      <td>0</td>\n",
              "      <td>1</td>\n",
              "      <td>5</td>\n",
              "      <td>4</td>\n",
              "    </tr>\n",
              "    <tr>\n",
              "      <th>29</th>\n",
              "      <td>Ferrari Dino</td>\n",
              "      <td>19.7</td>\n",
              "      <td>6</td>\n",
              "      <td>145.0</td>\n",
              "      <td>175</td>\n",
              "      <td>3.62</td>\n",
              "      <td>2.770</td>\n",
              "      <td>15.50</td>\n",
              "      <td>0</td>\n",
              "      <td>1</td>\n",
              "      <td>5</td>\n",
              "      <td>6</td>\n",
              "    </tr>\n",
              "    <tr>\n",
              "      <th>30</th>\n",
              "      <td>Maserati Bora</td>\n",
              "      <td>15.0</td>\n",
              "      <td>8</td>\n",
              "      <td>301.0</td>\n",
              "      <td>335</td>\n",
              "      <td>3.54</td>\n",
              "      <td>3.570</td>\n",
              "      <td>14.60</td>\n",
              "      <td>0</td>\n",
              "      <td>1</td>\n",
              "      <td>5</td>\n",
              "      <td>8</td>\n",
              "    </tr>\n",
              "    <tr>\n",
              "      <th>31</th>\n",
              "      <td>Volvo 142E</td>\n",
              "      <td>21.4</td>\n",
              "      <td>4</td>\n",
              "      <td>121.0</td>\n",
              "      <td>109</td>\n",
              "      <td>4.11</td>\n",
              "      <td>2.780</td>\n",
              "      <td>18.60</td>\n",
              "      <td>1</td>\n",
              "      <td>1</td>\n",
              "      <td>4</td>\n",
              "      <td>2</td>\n",
              "    </tr>\n",
              "  </tbody>\n",
              "</table>\n",
              "</div>"
            ],
            "text/plain": [
              "                  model   mpg  cyl   disp   hp  ...   qsec  vs  am  gear  carb\n",
              "0             Mazda RX4  21.0    6  160.0  110  ...  16.46   0   1     4     4\n",
              "1         Mazda RX4 Wag  21.0    6  160.0  110  ...  17.02   0   1     4     4\n",
              "2            Datsun 710  22.8    4  108.0   93  ...  18.61   1   1     4     1\n",
              "3        Hornet 4 Drive  21.4    6  258.0  110  ...  19.44   1   0     3     1\n",
              "4     Hornet Sportabout  18.7    8  360.0  175  ...  17.02   0   0     3     2\n",
              "5               Valiant  18.1    6  225.0  105  ...  20.22   1   0     3     1\n",
              "6            Duster 360  14.3    8  360.0  245  ...  15.84   0   0     3     4\n",
              "7             Merc 240D  24.4    4  146.7   62  ...  20.00   1   0     4     2\n",
              "8              Merc 230  22.8    4  140.8   95  ...  22.90   1   0     4     2\n",
              "9              Merc 280  19.2    6  167.6  123  ...  18.30   1   0     4     4\n",
              "10            Merc 280C  17.8    6  167.6  123  ...  18.90   1   0     4     4\n",
              "11           Merc 450SE  16.4    8  275.8  180  ...  17.40   0   0     3     3\n",
              "12           Merc 450SL  17.3    8  275.8  180  ...  17.60   0   0     3     3\n",
              "13          Merc 450SLC  15.2    8  275.8  180  ...  18.00   0   0     3     3\n",
              "14   Cadillac Fleetwood  10.4    8  472.0  205  ...  17.98   0   0     3     4\n",
              "15  Lincoln Continental  10.4    8  460.0  215  ...  17.82   0   0     3     4\n",
              "16    Chrysler Imperial  14.7    8  440.0  230  ...  17.42   0   0     3     4\n",
              "17             Fiat 128  32.4    4   78.7   66  ...  19.47   1   1     4     1\n",
              "18          Honda Civic  30.4    4   75.7   52  ...  18.52   1   1     4     2\n",
              "19       Toyota Corolla  33.9    4   71.1   65  ...  19.90   1   1     4     1\n",
              "20        Toyota Corona  21.5    4  120.1   97  ...  20.01   1   0     3     1\n",
              "21     Dodge Challenger  15.5    8  318.0  150  ...  16.87   0   0     3     2\n",
              "22          AMC Javelin  15.2    8  304.0  150  ...  17.30   0   0     3     2\n",
              "23           Camaro Z28  13.3    8  350.0  245  ...  15.41   0   0     3     4\n",
              "24     Pontiac Firebird  19.2    8  400.0  175  ...  17.05   0   0     3     2\n",
              "25            Fiat X1-9  27.3    4   79.0   66  ...  18.90   1   1     4     1\n",
              "26        Porsche 914-2  26.0    4  120.3   91  ...  16.70   0   1     5     2\n",
              "27         Lotus Europa  30.4    4   95.1  113  ...  16.90   1   1     5     2\n",
              "28       Ford Pantera L  15.8    8  351.0  264  ...  14.50   0   1     5     4\n",
              "29         Ferrari Dino  19.7    6  145.0  175  ...  15.50   0   1     5     6\n",
              "30        Maserati Bora  15.0    8  301.0  335  ...  14.60   0   1     5     8\n",
              "31           Volvo 142E  21.4    4  121.0  109  ...  18.60   1   1     4     2\n",
              "\n",
              "[32 rows x 12 columns]"
            ]
          },
          "metadata": {
            "tags": []
          },
          "execution_count": 2
        }
      ]
    },
    {
      "cell_type": "code",
      "metadata": {
        "id": "Vu8w4qj2lGUo",
        "colab_type": "code",
        "colab": {
          "base_uri": "https://localhost:8080/",
          "height": 300
        },
        "outputId": "f50424f1-19f2-4898-bbdc-c3a54fd704f9"
      },
      "source": [
        "# Scatter Plot for Gear,Carb\n",
        "mtcars.plot(kind=\"scatter\", x=\"gear\",y=\"carb\",figsize=(4,4),color=\"red\")"
      ],
      "execution_count": 5,
      "outputs": [
        {
          "output_type": "execute_result",
          "data": {
            "text/plain": [
              "<matplotlib.axes._subplots.AxesSubplot at 0x7f74abc9f400>"
            ]
          },
          "metadata": {
            "tags": []
          },
          "execution_count": 5
        },
        {
          "output_type": "display_data",
          "data": {
            "image/png": "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\n",
            "text/plain": [
              "<Figure size 288x288 with 1 Axes>"
            ]
          },
          "metadata": {
            "tags": [],
            "needs_background": "light"
          }
        }
      ]
    },
    {
      "cell_type": "code",
      "metadata": {
        "id": "PMnze4ZMqa4Q",
        "colab_type": "code",
        "colab": {
          "base_uri": "https://localhost:8080/",
          "height": 304
        },
        "outputId": "c83225f9-78e2-4f37-929d-45af99f9aab1"
      },
      "source": [
        "# Scatter Plot for Weight,,Mpg\n",
        "mtcars.plot(kind=\"scatter\", x=\"wt\", y=\"mpg\",figsize=(4,4),color=\"black\")"
      ],
      "execution_count": 6,
      "outputs": [
        {
          "output_type": "execute_result",
          "data": {
            "text/plain": [
              "<matplotlib.axes._subplots.AxesSubplot at 0x7f74ab76e208>"
            ]
          },
          "metadata": {
            "tags": []
          },
          "execution_count": 6
        },
        {
          "output_type": "display_data",
          "data": {
            "image/png": "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\n",
            "text/plain": [
              "<Figure size 288x288 with 1 Axes>"
            ]
          },
          "metadata": {
            "tags": [],
            "needs_background": "light"
          }
        }
      ]
    },
    {
      "cell_type": "code",
      "metadata": {
        "id": "1QVMyfX_q09B",
        "colab_type": "code",
        "colab": {
          "base_uri": "https://localhost:8080/",
          "height": 285
        },
        "outputId": "65ab4c73-6919-4a2d-e9f5-e377acce0810"
      },
      "source": [
        "# Bar Graph for cyl,hp\n",
        "plt.xlabel('Cylinders')\n",
        "plt.ylabel('Horsepower')\n",
        "plt.bar(mtcars['cyl'],mtcars['hp'])\n",
        "plt.show()"
      ],
      "execution_count": 15,
      "outputs": [
        {
          "output_type": "display_data",
          "data": {
            "image/png": "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\n",
            "text/plain": [
              "<Figure size 432x288 with 1 Axes>"
            ]
          },
          "metadata": {
            "tags": [],
            "needs_background": "light"
          }
        }
      ]
    },
    {
      "cell_type": "code",
      "metadata": {
        "id": "jQM89s8grYiy",
        "colab_type": "code",
        "colab": {}
      },
      "source": [
        "# Importing the necessary library required for Regression Analysis\n",
        "from sklearn import linear_model"
      ],
      "execution_count": 16,
      "outputs": []
    },
    {
      "cell_type": "code",
      "metadata": {
        "id": "PjI3Wkd4uK9d",
        "colab_type": "code",
        "colab": {}
      },
      "source": [
        "# Initializing the Model\n",
        "regression_model = linear_model.LinearRegression()"
      ],
      "execution_count": 17,
      "outputs": []
    },
    {
      "cell_type": "code",
      "metadata": {
        "id": "W48zSza8uWSn",
        "colab_type": "code",
        "colab": {
          "base_uri": "https://localhost:8080/",
          "height": 34
        },
        "outputId": "ab72e2e7-7705-486e-cf9c-349a02bc1816"
      },
      "source": [
        "# # Train the model using the mtcars data\n",
        "regression_model.fit(X = pd.DataFrame(mtcars[\"cyl\"]), y = mtcars[\"hp\"])"
      ],
      "execution_count": 18,
      "outputs": [
        {
          "output_type": "execute_result",
          "data": {
            "text/plain": [
              "LinearRegression(copy_X=True, fit_intercept=True, n_jobs=None, normalize=False)"
            ]
          },
          "metadata": {
            "tags": []
          },
          "execution_count": 18
        }
      ]
    },
    {
      "cell_type": "code",
      "metadata": {
        "id": "Uif_aoCTu0N6",
        "colab_type": "code",
        "colab": {
          "base_uri": "https://localhost:8080/",
          "height": 34
        },
        "outputId": "e37c8061-2332-4835-8b7e-984567cb5485"
      },
      "source": [
        "# Checking y-intercept\n",
        "print(regression_model.intercept_)"
      ],
      "execution_count": 19,
      "outputs": [
        {
          "output_type": "stream",
          "text": [
            "-51.05436156763599\n"
          ],
          "name": "stdout"
        }
      ]
    },
    {
      "cell_type": "code",
      "metadata": {
        "id": "0UpFoSjFxaS1",
        "colab_type": "code",
        "colab": {
          "base_uri": "https://localhost:8080/",
          "height": 34
        },
        "outputId": "8c3aa722-0d6c-48ee-83ff-65e266d0c46d"
      },
      "source": [
        "# Check trained model coefficients\n",
        "print(regression_model.coef_)"
      ],
      "execution_count": 20,
      "outputs": [
        {
          "output_type": "stream",
          "text": [
            "[31.95828066]\n"
          ],
          "name": "stdout"
        }
      ]
    },
    {
      "cell_type": "code",
      "metadata": {
        "id": "GyfZPQokxdh2",
        "colab_type": "code",
        "colab": {
          "base_uri": "https://localhost:8080/",
          "height": 34
        },
        "outputId": "e886b5dc-816e-408b-cc75-3472b2d8372d"
      },
      "source": [
        "# Determining score of Regression Model \n",
        "regression_model.score(X = pd.DataFrame(mtcars[\"cyl\"]),  y = mtcars[\"hp\"])"
      ],
      "execution_count": 21,
      "outputs": [
        {
          "output_type": "execute_result",
          "data": {
            "text/plain": [
              "0.6929687615430458"
            ]
          },
          "metadata": {
            "tags": []
          },
          "execution_count": 21
        }
      ]
    },
    {
      "cell_type": "code",
      "metadata": {
        "id": "VpFHIkbpyXR2",
        "colab_type": "code",
        "colab": {
          "base_uri": "https://localhost:8080/",
          "height": 175
        },
        "outputId": "a433a3e9-aba7-4ee2-9517-24e517bd85c4"
      },
      "source": [
        "train_prediction = regression_model.predict(X = pd.DataFrame(mtcars[\"cyl\"]))\n",
        "\n",
        "# Actual - prediction = residuals\n",
        "residuals = mtcars[\"hp\"] - train_prediction\n",
        "residuals.describe()"
      ],
      "execution_count": 22,
      "outputs": [
        {
          "output_type": "execute_result",
          "data": {
            "text/plain": [
              "count    3.200000e+01\n",
              "mean     1.110223e-14\n",
              "std      3.799096e+01\n",
              "min     -5.461188e+01\n",
              "25%     -2.598704e+01\n",
              "50%     -1.127876e+01\n",
              "75%      2.151296e+01\n",
              "max      1.303881e+02\n",
              "Name: hp, dtype: float64"
            ]
          },
          "metadata": {
            "tags": []
          },
          "execution_count": 22
        }
      ]
    },
    {
      "cell_type": "code",
      "metadata": {
        "id": "aM1jO5CFzgB-",
        "colab_type": "code",
        "colab": {
          "base_uri": "https://localhost:8080/",
          "height": 34
        },
        "outputId": "3233323f-34dc-4ebc-e339-2baa3705c800"
      },
      "source": [
        "SSResiduals = (residuals**2).sum()\n",
        "SSTotal = ((mtcars[\"hp\"] - mtcars[\"hp\"].mean())**2).sum()\n",
        "# R-squared\n",
        "1 - (SSResiduals/SSTotal)"
      ],
      "execution_count": 24,
      "outputs": [
        {
          "output_type": "execute_result",
          "data": {
            "text/plain": [
              "0.6929687615430458"
            ]
          },
          "metadata": {
            "tags": []
          },
          "execution_count": 24
        }
      ]
    },
    {
      "cell_type": "code",
      "metadata": {
        "id": "BHfKFpSF0hcc",
        "colab_type": "code",
        "colab": {
          "base_uri": "https://localhost:8080/",
          "height": 554
        },
        "outputId": "0a69deec-8b0c-4c42-8efe-a5d80e7ee393"
      },
      "source": [
        "mtcars.plot(kind=\"scatter\",x=\"cyl\",y=\"hp\",figsize=(9,9),color=\"black\",xlim = (0,7))\n",
        "# Plot regression line\n",
        "plt.plot(mtcars[\"cyl\"],      # Explanitory variable\n",
        "         train_prediction,  # Predicted values\n",
        "         color=\"red\");"
      ],
      "execution_count": 25,
      "outputs": [
        {
          "output_type": "display_data",
          "data": {
            "image/png": "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\n",
            "text/plain": [
              "<Figure size 648x648 with 1 Axes>"
            ]
          },
          "metadata": {
            "tags": [],
            "needs_background": "light"
          }
        }
      ]
    },
    {
      "cell_type": "code",
      "metadata": {
        "id": "DRXrIhmx1Dtt",
        "colab_type": "code",
        "colab": {
          "base_uri": "https://localhost:8080/",
          "height": 554
        },
        "outputId": "dc8e248d-08df-441d-b951-a745160395df"
      },
      "source": [
        "mtcars_subset = mtcars[[\"mpg\",\"wt\"]]\n",
        "\n",
        "super_car = pd.DataFrame({\"mpg\":50,\"wt\":10}, index=[\"super\"])\n",
        "\n",
        "new_cars = mtcars_subset.append(super_car)\n",
        "\n",
        "# Initialize model\n",
        "regression_model = linear_model.LinearRegression()\n",
        "\n",
        "# Train the model using the new_cars data\n",
        "regression_model.fit(X = pd.DataFrame(new_cars[\"wt\"]), \n",
        "                     y = new_cars[\"mpg\"])\n",
        "\n",
        "train_prediction2 = regression_model.predict(X = pd.DataFrame(new_cars[\"wt\"]))\n",
        "\n",
        "# Plot the new model\n",
        "new_cars.plot(kind=\"scatter\",\n",
        "           x=\"wt\",\n",
        "           y=\"mpg\",\n",
        "           figsize=(9,9),\n",
        "           color=\"black\", xlim=(1,11), ylim=(10,52))\n",
        "\n",
        "# Plot regression line\n",
        "plt.plot(new_cars[\"wt\"],     # Explanatory variable\n",
        "         train_prediction2,  # Predicted values\n",
        "         color=\"blue\");"
      ],
      "execution_count": 27,
      "outputs": [
        {
          "output_type": "display_data",
          "data": {
            "image/png": "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\n",
            "text/plain": [
              "<Figure size 648x648 with 1 Axes>"
            ]
          },
          "metadata": {
            "tags": [],
            "needs_background": "light"
          }
        }
      ]
    },
    {
      "cell_type": "code",
      "metadata": {
        "id": "DiH9yzmq5Hrj",
        "colab_type": "code",
        "colab": {
          "base_uri": "https://localhost:8080/",
          "height": 853
        },
        "outputId": "dee208ee-e428-4803-aa27-34bf5203cba9"
      },
      "source": [
        "plt.figure(figsize=(9,9))\n",
        "stats.probplot(residuals, dist=\"norm\", plot=plt)"
      ],
      "execution_count": 28,
      "outputs": [
        {
          "output_type": "execute_result",
          "data": {
            "text/plain": [
              "((array([-2.02511189, -1.62590278, -1.38593914, -1.20666642, -1.05953591,\n",
              "         -0.93235918, -0.81872017, -0.71478609, -0.6180591 , -0.52680137,\n",
              "         -0.43973827, -0.35589149, -0.27447843, -0.19484777, -0.11643566,\n",
              "         -0.03873405,  0.03873405,  0.11643566,  0.19484777,  0.27447843,\n",
              "          0.35589149,  0.43973827,  0.52680137,  0.6180591 ,  0.71478609,\n",
              "          0.81872017,  0.93235918,  1.05953591,  1.20666642,  1.38593914,\n",
              "          1.62590278,  2.02511189]),\n",
              "  array([-54.61188369, -54.61188369, -35.69532238, -30.69532238,\n",
              "         -30.69532238, -30.69532238, -29.61188369, -29.61188369,\n",
              "         -24.77876106, -24.61188369, -24.61188369, -24.61188369,\n",
              "         -17.69532238, -17.69532238, -14.77876106, -11.77876106,\n",
              "         -10.77876106, -10.77876106,   0.38811631,  10.38811631,\n",
              "          14.22123894,  16.22123894,  18.22123894,  20.22123894,\n",
              "          25.38811631,  32.22123894,  34.30467762,  36.22123894,\n",
              "          40.38811631,  40.38811631,  59.38811631, 130.38811631])),\n",
              " (37.02645210353369, 1.1076677250715401e-14, 0.9394759217884266))"
            ]
          },
          "metadata": {
            "tags": []
          },
          "execution_count": 28
        },
        {
          "output_type": "display_data",
          "data": {
            "image/png": "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\n",
            "text/plain": [
              "<Figure size 648x648 with 1 Axes>"
            ]
          },
          "metadata": {
            "tags": [],
            "needs_background": "light"
          }
        }
      ]
    },
    {
      "cell_type": "code",
      "metadata": {
        "id": "K_3zOBaB5Us7",
        "colab_type": "code",
        "colab": {}
      },
      "source": [
        ""
      ],
      "execution_count": null,
      "outputs": []
    }
  ]
}
